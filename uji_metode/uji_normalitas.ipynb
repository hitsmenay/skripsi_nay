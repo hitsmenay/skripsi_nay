{
 "cells": [
  {
   "cell_type": "markdown",
   "metadata": {},
   "source": [
    "__Uji Normalitas PM10__"
   ]
  },
  {
   "cell_type": "code",
   "execution_count": 1,
   "metadata": {},
   "outputs": [],
   "source": [
    "import pandas as pd\n",
    "df = pd.read_csv(r'/Users/roniabuhanif/Downloads/BMKG/data_skripsi/uji_metode/allvar_ispa_all.csv')"
   ]
  },
  {
   "cell_type": "code",
   "execution_count": 2,
   "metadata": {},
   "outputs": [
    {
     "name": "stdout",
     "output_type": "stream",
     "text": [
      "<class 'pandas.core.frame.DataFrame'>\n",
      "RangeIndex: 300 entries, 0 to 299\n",
      "Data columns (total 17 columns):\n",
      " #   Column        Non-Null Count  Dtype  \n",
      "---  ------        --------------  -----  \n",
      " 0   Unnamed: 0.1  300 non-null    int64  \n",
      " 1   Unnamed: 0    300 non-null    int64  \n",
      " 2   KABKOT        300 non-null    object \n",
      " 3   month         300 non-null    int64  \n",
      " 4   year          300 non-null    int64  \n",
      " 5   longitude     300 non-null    float64\n",
      " 6   latitude      300 non-null    float64\n",
      " 7   pm2p5         300 non-null    float64\n",
      " 8   time          300 non-null    object \n",
      " 9   RH            300 non-null    float64\n",
      " 10  t2m           300 non-null    float64\n",
      " 11  tp            300 non-null    float64\n",
      " 12  ispa          300 non-null    int64  \n",
      " 13  pm10          300 non-null    float64\n",
      " 14  so2           300 non-null    float64\n",
      " 15  ispa_balita   300 non-null    int64  \n",
      " 16  ispa_5y       300 non-null    int64  \n",
      "dtypes: float64(8), int64(7), object(2)\n",
      "memory usage: 40.0+ KB\n"
     ]
    }
   ],
   "source": [
    "df.info()"
   ]
  },
  {
   "cell_type": "code",
   "execution_count": 3,
   "metadata": {},
   "outputs": [
    {
     "data": {
      "text/plain": [
       "KstestResult(statistic=1.0, pvalue=0.0, statistic_location=43.204622404023, statistic_sign=-1)"
      ]
     },
     "execution_count": 3,
     "metadata": {},
     "output_type": "execute_result"
    }
   ],
   "source": [
    "from scipy.stats import kstest\n",
    "\n",
    "x = kstest(df['pm10'], \"norm\") \n",
    "x"
   ]
  },
  {
   "cell_type": "code",
   "execution_count": 4,
   "metadata": {},
   "outputs": [
    {
     "data": {
      "text/plain": [
       "(array([ 7., 12., 39., 31., 35., 41., 67., 42., 17.,  9.]),\n",
       " array([ 43.2046224 ,  49.49913054,  55.79363868,  62.08814682,\n",
       "         68.38265496,  74.6771631 ,  80.97167123,  87.26617937,\n",
       "         93.56068751,  99.85519565, 106.14970379]),\n",
       " <BarContainer object of 10 artists>)"
      ]
     },
     "execution_count": 4,
     "metadata": {},
     "output_type": "execute_result"
    },
    {
     "data": {
      "image/png": "[encoded data removed]",
      "text/plain": [
       "<Figure size 640x480 with 1 Axes>"
      ]
     },
     "metadata": {},
     "output_type": "display_data"
    }
   ],
   "source": [
    "import matplotlib\n",
    "import matplotlib.pyplot as plt\n",
    "plt.hist(df['pm10'])"
   ]
  },
  {
   "cell_type": "markdown",
   "metadata": {},
   "source": [
    "__Uji Normalitas PM2.5__"
   ]
  },
  {
   "cell_type": "code",
   "execution_count": 5,
   "metadata": {},
   "outputs": [],
   "source": [
    "import pandas as pd\n",
    "df = pd.read_csv(r'/Users/roniabuhanif/Downloads/BMKG/data_skripsi/uji_metode/allvar_ispa_all.csv')"
   ]
  },
  {
   "cell_type": "code",
   "execution_count": 6,
   "metadata": {},
   "outputs": [
    {
     "data": {
      "text/plain": [
       "KstestResult(statistic=1.0, pvalue=0.0, statistic_location=30.068708509128, statistic_sign=-1)"
      ]
     },
     "execution_count": 6,
     "metadata": {},
     "output_type": "execute_result"
    }
   ],
   "source": [
    "from scipy.stats import kstest\n",
    "\n",
    "x = kstest(df['pm2p5'], \"norm\") \n",
    "x"
   ]
  },
  {
   "cell_type": "code",
   "execution_count": 7,
   "metadata": {},
   "outputs": [
    {
     "data": {
      "text/plain": [
       "(array([ 7., 12., 37., 30., 37., 40., 65., 46., 17.,  9.]),\n",
       " array([30.06870851, 34.52628392, 38.98385934, 43.44143475, 47.89901016,\n",
       "        52.35658558, 56.81416099, 61.27173641, 65.72931182, 70.18688723,\n",
       "        74.64446265]),\n",
       " <BarContainer object of 10 artists>)"
      ]
     },
     "execution_count": 7,
     "metadata": {},
     "output_type": "execute_result"
    },
    {
     "data": {
      "image/png": "[encoded data removed]",
      "text/plain": [
       "<Figure size 640x480 with 1 Axes>"
      ]
     },
     "metadata": {},
     "output_type": "display_data"
    }
   ],
   "source": [
    "import matplotlib\n",
    "import matplotlib.pyplot as plt\n",
    "plt.hist(df['pm2p5'])"
   ]
  },
  {
   "cell_type": "markdown",
   "metadata": {},
   "source": [
    "__Uji Normalitas SO2__"
   ]
  },
  {
   "cell_type": "code",
   "execution_count": 8,
   "metadata": {},
   "outputs": [],
   "source": [
    "import pandas as pd\n",
    "df = pd.read_csv(r'/Users/roniabuhanif/Downloads/BMKG/data_skripsi/uji_metode/allvar_ispa_all.csv')"
   ]
  },
  {
   "cell_type": "code",
   "execution_count": 10,
   "metadata": {},
   "outputs": [
    {
     "data": {
      "text/plain": [
       "KstestResult(statistic=0.9990148595684792, pvalue=0.0, statistic_location=3.0946758683576, statistic_sign=-1)"
      ]
     },
     "execution_count": 10,
     "metadata": {},
     "output_type": "execute_result"
    }
   ],
   "source": [
    "from scipy.stats import kstest\n",
    "\n",
    "x = kstest(df['so2'], \"norm\") \n",
    "x"
   ]
  },
  {
   "cell_type": "code",
   "execution_count": 11,
   "metadata": {},
   "outputs": [
    {
     "data": {
      "text/plain": [
       "(array([11., 23., 27., 36., 50., 37., 38., 35., 31., 12.]),\n",
       " array([3.09467587, 3.49353995, 3.89240403, 4.29126811, 4.69013219,\n",
       "        5.08899627, 5.48786035, 5.88672443, 6.28558851, 6.68445259,\n",
       "        7.08331667]),\n",
       " <BarContainer object of 10 artists>)"
      ]
     },
     "execution_count": 11,
     "metadata": {},
     "output_type": "execute_result"
    },
    {
     "data": {
      "image/png": "[encoded data removed]",
      "text/plain": [
       "<Figure size 640x480 with 1 Axes>"
      ]
     },
     "metadata": {},
     "output_type": "display_data"
    }
   ],
   "source": [
    "import matplotlib\n",
    "import matplotlib.pyplot as plt\n",
    "plt.hist(df['so2'])"
   ]
  },
  {
   "cell_type": "markdown",
   "metadata": {},
   "source": [
    "__Uji Normalitas Total Precipitation__"
   ]
  },
  {
   "cell_type": "code",
   "execution_count": 12,
   "metadata": {},
   "outputs": [],
   "source": [
    "import pandas as pd\n",
    "df = pd.read_csv(r'/Users/roniabuhanif/Downloads/BMKG/data_skripsi/uji_metode/allvar_ispa_all.csv')"
   ]
  },
  {
   "cell_type": "code",
   "execution_count": 13,
   "metadata": {},
   "outputs": [
    {
     "data": {
      "text/plain": [
       "KstestResult(statistic=0.8124174595504956, pvalue=3.5368004115852593e-216, statistic_location=1.520049981773, statistic_sign=-1)"
      ]
     },
     "execution_count": 13,
     "metadata": {},
     "output_type": "execute_result"
    }
   ],
   "source": [
    "from scipy.stats import kstest\n",
    "\n",
    "x = kstest(df['tp'], \"norm\") \n",
    "x"
   ]
  },
  {
   "cell_type": "code",
   "execution_count": 18,
   "metadata": {},
   "outputs": [
    {
     "data": {
      "text/plain": [
       "(array([55., 39., 33., 55., 41., 32., 26.,  4.,  8.,  7.]),\n",
       " array([ 0.2866577 ,  1.87471346,  3.46276923,  5.05082499,  6.63888076,\n",
       "         8.22693652,  9.81499229, 11.40304805, 12.99110382, 14.57915958,\n",
       "        16.16721535]),\n",
       " <BarContainer object of 10 artists>)"
      ]
     },
     "execution_count": 18,
     "metadata": {},
     "output_type": "execute_result"
    },
    {
     "data": {
      "image/png": "[encoded data removed]",
      "text/plain": [
       "<Figure size 640x480 with 1 Axes>"
      ]
     },
     "metadata": {},
     "output_type": "display_data"
    }
   ],
   "source": [
    "import matplotlib\n",
    "import matplotlib.pyplot as plt\n",
    "plt.hist(df['tp'])"
   ]
  },
  {
   "cell_type": "markdown",
   "metadata": {},
   "source": [
    "__Uji Normalitas Temperature__"
   ]
  },
  {
   "cell_type": "code",
   "execution_count": 15,
   "metadata": {},
   "outputs": [],
   "source": [
    "import pandas as pd\n",
    "df = pd.read_csv(r'/Users/roniabuhanif/Downloads/BMKG/data_skripsi/uji_metode/allvar_ispa_all.csv')"
   ]
  },
  {
   "cell_type": "code",
   "execution_count": 16,
   "metadata": {},
   "outputs": [
    {
     "data": {
      "text/plain": [
       "KstestResult(statistic=1.0, pvalue=0.0, statistic_location=26.095241292318, statistic_sign=-1)"
      ]
     },
     "execution_count": 16,
     "metadata": {},
     "output_type": "execute_result"
    }
   ],
   "source": [
    "from scipy.stats import kstest\n",
    "\n",
    "x = kstest(df['t2m'], \"norm\") \n",
    "x"
   ]
  },
  {
   "cell_type": "code",
   "execution_count": 17,
   "metadata": {},
   "outputs": [
    {
     "data": {
      "text/plain": [
       "(array([ 4., 14., 28., 51., 67., 56., 46., 22.,  5.,  7.]),\n",
       " array([26.09524129, 26.3679224 , 26.64060352, 26.91328463, 27.18596574,\n",
       "        27.45864685, 27.73132796, 28.00400907, 28.27669019, 28.5493713 ,\n",
       "        28.82205241]),\n",
       " <BarContainer object of 10 artists>)"
      ]
     },
     "execution_count": 17,
     "metadata": {},
     "output_type": "execute_result"
    },
    {
     "data": {
      "image/png": "[encoded data removed]",
      "text/plain": [
       "<Figure size 640x480 with 1 Axes>"
      ]
     },
     "metadata": {},
     "output_type": "display_data"
    }
   ],
   "source": [
    "import matplotlib\n",
    "import matplotlib.pyplot as plt\n",
    "plt.hist(df['t2m'])"
   ]
  },
  {
   "cell_type": "markdown",
   "metadata": {},
   "source": [
    "**Uji Normalitas RH**\n"
   ]
  },
  {
   "cell_type": "code",
   "execution_count": 19,
   "metadata": {},
   "outputs": [],
   "source": [
    "import pandas as pd\n",
    "df = pd.read_csv(r'/Users/roniabuhanif/Downloads/BMKG/data_skripsi/uji_metode/allvar_ispa_all.csv')"
   ]
  },
  {
   "cell_type": "code",
   "execution_count": 20,
   "metadata": {},
   "outputs": [
    {
     "data": {
      "text/plain": [
       "KstestResult(statistic=1.0, pvalue=0.0, statistic_location=68.119664510091, statistic_sign=-1)"
      ]
     },
     "execution_count": 20,
     "metadata": {},
     "output_type": "execute_result"
    }
   ],
   "source": [
    "from scipy.stats import kstest\n",
    "\n",
    "x = kstest(df['RH'], \"norm\") \n",
    "x"
   ]
  },
  {
   "cell_type": "code",
   "execution_count": 21,
   "metadata": {},
   "outputs": [
    {
     "data": {
      "text/plain": [
       "(array([17., 14.,  7., 19.,  6., 26., 49., 63., 74., 25.]),\n",
       " array([68.11966451, 70.03193451, 71.94420451, 73.85647451, 75.76874451,\n",
       "        77.68101451, 79.59328451, 81.5055545 , 83.4178245 , 85.3300945 ,\n",
       "        87.2423645 ]),\n",
       " <BarContainer object of 10 artists>)"
      ]
     },
     "execution_count": 21,
     "metadata": {},
     "output_type": "execute_result"
    },
    {
     "data": {
      "image/png": "[encoded data removed]",
      "text/plain": [
       "<Figure size 640x480 with 1 Axes>"
      ]
     },
     "metadata": {},
     "output_type": "display_data"
    }
   ],
   "source": [
    "import matplotlib\n",
    "import matplotlib.pyplot as plt\n",
    "plt.hist(df['RH'])"
   ]
  },
  {
   "cell_type": "markdown",
   "metadata": {},
   "source": [
    "Uji Normalitas ISPA > 5 Tahun"
   ]
  },
  {
   "cell_type": "code",
   "execution_count": 22,
   "metadata": {},
   "outputs": [],
   "source": [
    "import pandas as pd\n",
    "df = pd.read_csv(r'/Users/roniabuhanif/Downloads/BMKG/data_skripsi/uji_metode/allvar_ispa_all.csv')"
   ]
  },
  {
   "cell_type": "code",
   "execution_count": 23,
   "metadata": {},
   "outputs": [
    {
     "data": {
      "text/plain": [
       "KstestResult(statistic=0.9966666666666667, pvalue=0.0, statistic_location=2488, statistic_sign=-1)"
      ]
     },
     "execution_count": 23,
     "metadata": {},
     "output_type": "execute_result"
    }
   ],
   "source": [
    "from scipy.stats import kstest\n",
    "\n",
    "x = kstest(df['ispa_5y'], \"norm\") \n",
    "x"
   ]
  },
  {
   "cell_type": "code",
   "execution_count": 24,
   "metadata": {},
   "outputs": [
    {
     "data": {
      "text/plain": [
       "(array([  1.,   0., 140., 136.,  21.,   1.,   0.,   0.,   0.,   1.]),\n",
       " array([-41519. , -23412.4,  -5305.8,  12800.8,  30907.4,  49014. ,\n",
       "         67120.6,  85227.2, 103333.8, 121440.4, 139547. ]),\n",
       " <BarContainer object of 10 artists>)"
      ]
     },
     "execution_count": 24,
     "metadata": {},
     "output_type": "execute_result"
    },
    {
     "data": {
      "image/png": "[encoded data removed]",
      "text/plain": [
       "<Figure size 640x480 with 1 Axes>"
      ]
     },
     "metadata": {},
     "output_type": "display_data"
    }
   ],
   "source": [
    "import matplotlib\n",
    "import matplotlib.pyplot as plt\n",
    "plt.hist(df['ispa_5y'])"
   ]
  }
 ],
 "metadata": {
  "kernelspec": {
   "display_name": "kelas-phthon",
   "language": "python",
   "name": "python3"
  },
  "language_info": {
   "codemirror_mode": {
    "name": "ipython",
    "version": 3
   },
   "file_extension": ".py",
   "mimetype": "text/x-python",
   "name": "python",
   "nbconvert_exporter": "python",
   "pygments_lexer": "ipython3",
   "version": "3.12.0"
  }
 },
 "nbformat": 4,
 "nbformat_minor": 2
}

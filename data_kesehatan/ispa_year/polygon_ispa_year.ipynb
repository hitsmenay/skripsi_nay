{
 "cells": [
  {
   "cell_type": "markdown",
   "metadata": {},
   "source": [
    "**IMPORT CSV**"
   ]
  },
  {
   "cell_type": "code",
   "execution_count": 1,
   "metadata": {},
   "outputs": [],
   "source": [
    "import geopandas as gpd\n",
    "import pandas as pd"
   ]
  },
  {
   "cell_type": "code",
   "execution_count": 2,
   "metadata": {},
   "outputs": [],
   "source": [
    "# importing pandas package\n",
    "import pandas as pd\n",
    " \n",
    "# making data frame from csv file\n",
    "df_ispa = pd.read_excel('/Users/roniabuhanif/Downloads/BMKG/data_skripsi/data_kesehatan/ispa_excel.xls')\n",
    "df_climate = pd.read_csv('/Users/roniabuhanif/Downloads/BMKG/data_skripsi/uji_metode/climate_all_year_time.csv')"
   ]
  },
  {
   "cell_type": "code",
   "execution_count": 3,
   "metadata": {},
   "outputs": [
    {
     "name": "stdout",
     "output_type": "stream",
     "text": [
      "<class 'pandas.core.frame.DataFrame'>\n",
      "RangeIndex: 300 entries, 0 to 299\n",
      "Data columns (total 4 columns):\n",
      " #   Column  Non-Null Count  Dtype \n",
      "---  ------  --------------  ----- \n",
      " 0   KABKOT  300 non-null    object\n",
      " 1   Month   300 non-null    int64 \n",
      " 2   Year    300 non-null    int64 \n",
      " 3   ISPA    300 non-null    int64 \n",
      "dtypes: int64(3), object(1)\n",
      "memory usage: 9.5+ KB\n"
     ]
    }
   ],
   "source": [
    "df_ispa.info()"
   ]
  },
  {
   "cell_type": "code",
   "execution_count": 4,
   "metadata": {},
   "outputs": [
    {
     "name": "stdout",
     "output_type": "stream",
     "text": [
      "<class 'pandas.core.frame.DataFrame'>\n",
      "RangeIndex: 300 entries, 0 to 299\n",
      "Data columns (total 11 columns):\n",
      " #   Column        Non-Null Count  Dtype  \n",
      "---  ------        --------------  -----  \n",
      " 0   Unnamed: 0.1  300 non-null    int64  \n",
      " 1   Unnamed: 0    300 non-null    int64  \n",
      " 2   KABKOT        300 non-null    object \n",
      " 3   month         300 non-null    int64  \n",
      " 4   year          300 non-null    int64  \n",
      " 5   longitude     300 non-null    float64\n",
      " 6   latitude      300 non-null    float64\n",
      " 7   RH            300 non-null    float64\n",
      " 8   time          300 non-null    object \n",
      " 9   t2m           300 non-null    float64\n",
      " 10  tp            300 non-null    float64\n",
      "dtypes: float64(5), int64(4), object(2)\n",
      "memory usage: 25.9+ KB\n"
     ]
    }
   ],
   "source": [
    "df_climate.info()"
   ]
  },
  {
   "cell_type": "markdown",
   "metadata": {},
   "source": [
    "**SET THE TIME TO .DATETIME FORMAT**"
   ]
  },
  {
   "cell_type": "code",
   "execution_count": 5,
   "metadata": {},
   "outputs": [
    {
     "name": "stdout",
     "output_type": "stream",
     "text": [
      "<class 'pandas.core.frame.DataFrame'>\n",
      "RangeIndex: 18000 entries, 0 to 17999\n",
      "Data columns (total 14 columns):\n",
      " #   Column        Non-Null Count  Dtype  \n",
      "---  ------        --------------  -----  \n",
      " 0   Unnamed: 0.1  18000 non-null  int64  \n",
      " 1   Unnamed: 0    18000 non-null  int64  \n",
      " 2   KABKOT        18000 non-null  object \n",
      " 3   month         18000 non-null  int64  \n",
      " 4   year          18000 non-null  int64  \n",
      " 5   longitude     18000 non-null  float64\n",
      " 6   latitude      18000 non-null  float64\n",
      " 7   RH            18000 non-null  float64\n",
      " 8   time          18000 non-null  object \n",
      " 9   t2m           18000 non-null  float64\n",
      " 10  tp            18000 non-null  float64\n",
      " 11  Month         18000 non-null  int64  \n",
      " 12  Year          18000 non-null  int64  \n",
      " 13  ISPA          18000 non-null  int64  \n",
      "dtypes: float64(5), int64(7), object(2)\n",
      "memory usage: 1.9+ MB\n"
     ]
    }
   ],
   "source": [
    "df_climate_ispa = df_climate.merge(df_ispa, how='inner')\n",
    "df_climate_ispa.info()"
   ]
  },
  {
   "cell_type": "code",
   "execution_count": 6,
   "metadata": {},
   "outputs": [
    {
     "data": {
      "text/html": [
       "<div>\n",
       "<style scoped>\n",
       "    .dataframe tbody tr th:only-of-type {\n",
       "        vertical-align: middle;\n",
       "    }\n",
       "\n",
       "    .dataframe tbody tr th {\n",
       "        vertical-align: top;\n",
       "    }\n",
       "\n",
       "    .dataframe thead th {\n",
       "        text-align: right;\n",
       "    }\n",
       "</style>\n",
       "<table border=\"1\" class=\"dataframe\">\n",
       "  <thead>\n",
       "    <tr style=\"text-align: right;\">\n",
       "      <th></th>\n",
       "      <th>Unnamed: 0.1</th>\n",
       "      <th>Unnamed: 0</th>\n",
       "      <th>month</th>\n",
       "      <th>year</th>\n",
       "      <th>longitude</th>\n",
       "      <th>latitude</th>\n",
       "      <th>RH</th>\n",
       "      <th>t2m</th>\n",
       "      <th>tp</th>\n",
       "      <th>Month</th>\n",
       "      <th>Year</th>\n",
       "      <th>ISPA</th>\n",
       "    </tr>\n",
       "  </thead>\n",
       "  <tbody>\n",
       "    <tr>\n",
       "      <th>count</th>\n",
       "      <td>18000.000000</td>\n",
       "      <td>18000.000000</td>\n",
       "      <td>18000.000000</td>\n",
       "      <td>18000.000000</td>\n",
       "      <td>18000.000000</td>\n",
       "      <td>18000.000000</td>\n",
       "      <td>18000.000000</td>\n",
       "      <td>18000.000000</td>\n",
       "      <td>18000.000000</td>\n",
       "      <td>18000.000000</td>\n",
       "      <td>18000.000000</td>\n",
       "      <td>18000.000000</td>\n",
       "    </tr>\n",
       "    <tr>\n",
       "      <th>mean</th>\n",
       "      <td>149.500000</td>\n",
       "      <td>149.500000</td>\n",
       "      <td>6.500000</td>\n",
       "      <td>2020.000000</td>\n",
       "      <td>106.842000</td>\n",
       "      <td>-6.205333</td>\n",
       "      <td>80.452865</td>\n",
       "      <td>27.418990</td>\n",
       "      <td>5.859645</td>\n",
       "      <td>6.500000</td>\n",
       "      <td>2020.000000</td>\n",
       "      <td>15619.363333</td>\n",
       "    </tr>\n",
       "    <tr>\n",
       "      <th>std</th>\n",
       "      <td>86.604465</td>\n",
       "      <td>86.604465</td>\n",
       "      <td>3.452148</td>\n",
       "      <td>1.414253</td>\n",
       "      <td>0.057885</td>\n",
       "      <td>0.059606</td>\n",
       "      <td>4.707700</td>\n",
       "      <td>0.495328</td>\n",
       "      <td>3.707893</td>\n",
       "      <td>3.452148</td>\n",
       "      <td>1.414253</td>\n",
       "      <td>15705.015641</td>\n",
       "    </tr>\n",
       "    <tr>\n",
       "      <th>min</th>\n",
       "      <td>0.000000</td>\n",
       "      <td>0.000000</td>\n",
       "      <td>1.000000</td>\n",
       "      <td>2018.000000</td>\n",
       "      <td>106.750000</td>\n",
       "      <td>-6.283333</td>\n",
       "      <td>68.119665</td>\n",
       "      <td>26.095241</td>\n",
       "      <td>0.286658</td>\n",
       "      <td>1.000000</td>\n",
       "      <td>2018.000000</td>\n",
       "      <td>846.000000</td>\n",
       "    </tr>\n",
       "    <tr>\n",
       "      <th>25%</th>\n",
       "      <td>74.750000</td>\n",
       "      <td>74.750000</td>\n",
       "      <td>3.750000</td>\n",
       "      <td>2019.000000</td>\n",
       "      <td>106.808333</td>\n",
       "      <td>-6.260000</td>\n",
       "      <td>78.811463</td>\n",
       "      <td>27.094362</td>\n",
       "      <td>2.733340</td>\n",
       "      <td>3.750000</td>\n",
       "      <td>2019.000000</td>\n",
       "      <td>5044.750000</td>\n",
       "    </tr>\n",
       "    <tr>\n",
       "      <th>50%</th>\n",
       "      <td>149.500000</td>\n",
       "      <td>149.500000</td>\n",
       "      <td>6.500000</td>\n",
       "      <td>2020.000000</td>\n",
       "      <td>106.850000</td>\n",
       "      <td>-6.200000</td>\n",
       "      <td>81.855138</td>\n",
       "      <td>27.407935</td>\n",
       "      <td>5.544403</td>\n",
       "      <td>6.500000</td>\n",
       "      <td>2020.000000</td>\n",
       "      <td>10007.000000</td>\n",
       "    </tr>\n",
       "    <tr>\n",
       "      <th>75%</th>\n",
       "      <td>224.250000</td>\n",
       "      <td>224.250000</td>\n",
       "      <td>9.250000</td>\n",
       "      <td>2021.000000</td>\n",
       "      <td>106.891667</td>\n",
       "      <td>-6.158333</td>\n",
       "      <td>83.671870</td>\n",
       "      <td>27.756224</td>\n",
       "      <td>8.302740</td>\n",
       "      <td>9.250000</td>\n",
       "      <td>2021.000000</td>\n",
       "      <td>23655.750000</td>\n",
       "    </tr>\n",
       "    <tr>\n",
       "      <th>max</th>\n",
       "      <td>299.000000</td>\n",
       "      <td>299.000000</td>\n",
       "      <td>12.000000</td>\n",
       "      <td>2022.000000</td>\n",
       "      <td>106.910000</td>\n",
       "      <td>-6.125000</td>\n",
       "      <td>87.242365</td>\n",
       "      <td>28.822052</td>\n",
       "      <td>16.167215</td>\n",
       "      <td>12.000000</td>\n",
       "      <td>2022.000000</td>\n",
       "      <td>149379.000000</td>\n",
       "    </tr>\n",
       "  </tbody>\n",
       "</table>\n",
       "</div>"
      ],
      "text/plain": [
       "       Unnamed: 0.1    Unnamed: 0         month          year     longitude  \\\n",
       "count  18000.000000  18000.000000  18000.000000  18000.000000  18000.000000   \n",
       "mean     149.500000    149.500000      6.500000   2020.000000    106.842000   \n",
       "std       86.604465     86.604465      3.452148      1.414253      0.057885   \n",
       "min        0.000000      0.000000      1.000000   2018.000000    106.750000   \n",
       "25%       74.750000     74.750000      3.750000   2019.000000    106.808333   \n",
       "50%      149.500000    149.500000      6.500000   2020.000000    106.850000   \n",
       "75%      224.250000    224.250000      9.250000   2021.000000    106.891667   \n",
       "max      299.000000    299.000000     12.000000   2022.000000    106.910000   \n",
       "\n",
       "           latitude            RH           t2m            tp         Month  \\\n",
       "count  18000.000000  18000.000000  18000.000000  18000.000000  18000.000000   \n",
       "mean      -6.205333     80.452865     27.418990      5.859645      6.500000   \n",
       "std        0.059606      4.707700      0.495328      3.707893      3.452148   \n",
       "min       -6.283333     68.119665     26.095241      0.286658      1.000000   \n",
       "25%       -6.260000     78.811463     27.094362      2.733340      3.750000   \n",
       "50%       -6.200000     81.855138     27.407935      5.544403      6.500000   \n",
       "75%       -6.158333     83.671870     27.756224      8.302740      9.250000   \n",
       "max       -6.125000     87.242365     28.822052     16.167215     12.000000   \n",
       "\n",
       "               Year           ISPA  \n",
       "count  18000.000000   18000.000000  \n",
       "mean    2020.000000   15619.363333  \n",
       "std        1.414253   15705.015641  \n",
       "min     2018.000000     846.000000  \n",
       "25%     2019.000000    5044.750000  \n",
       "50%     2020.000000   10007.000000  \n",
       "75%     2021.000000   23655.750000  \n",
       "max     2022.000000  149379.000000  "
      ]
     },
     "execution_count": 6,
     "metadata": {},
     "output_type": "execute_result"
    }
   ],
   "source": [
    "df_climate_ispa.describe()"
   ]
  },
  {
   "cell_type": "code",
   "execution_count": 7,
   "metadata": {},
   "outputs": [],
   "source": [
    "df_climate_ispa.to_csv('climate_ispa_year.csv')"
   ]
  },
  {
   "cell_type": "code",
   "execution_count": 8,
   "metadata": {},
   "outputs": [],
   "source": [
    "df_climate_ispa['time']= pd.to_datetime(df_climate_ispa['time'])"
   ]
  },
  {
   "cell_type": "code",
   "execution_count": 9,
   "metadata": {},
   "outputs": [],
   "source": [
    "df_climate_ispa['month'] = df_climate_ispa['time'].dt.month\n",
    "df_climate_ispa['year'] = df_climate_ispa['time'].dt.year"
   ]
  },
  {
   "cell_type": "markdown",
   "metadata": {},
   "source": [
    "**IMPORT SHP FILE**"
   ]
  },
  {
   "cell_type": "code",
   "execution_count": 10,
   "metadata": {},
   "outputs": [],
   "source": [
    "# Load shapefile into a GeoDataFrame\n",
    "gdf_shapefile = gpd.read_file(r\"/Users/roniabuhanif/Downloads/BMKG/data_skripsi/petadki_kota/Kota_DKIJakarta.shp\")"
   ]
  },
  {
   "cell_type": "code",
   "execution_count": 11,
   "metadata": {},
   "outputs": [
    {
     "name": "stdout",
     "output_type": "stream",
     "text": [
      "<class 'geopandas.geodataframe.GeoDataFrame'>\n",
      "RangeIndex: 6 entries, 0 to 5\n",
      "Data columns (total 5 columns):\n",
      " #   Column    Non-Null Count  Dtype   \n",
      "---  ------    --------------  -----   \n",
      " 0   PROVNO    6 non-null      object  \n",
      " 1   KABKOTNO  6 non-null      object  \n",
      " 2   PROVINSI  6 non-null      object  \n",
      " 3   KABKOT    6 non-null      object  \n",
      " 4   geometry  6 non-null      geometry\n",
      "dtypes: geometry(1), object(4)\n",
      "memory usage: 372.0+ bytes\n"
     ]
    }
   ],
   "source": [
    "gdf_shapefile.info()\n"
   ]
  },
  {
   "cell_type": "code",
   "execution_count": 12,
   "metadata": {},
   "outputs": [],
   "source": [
    "gdf_shapefile.to_csv('shp.csv')"
   ]
  },
  {
   "cell_type": "markdown",
   "metadata": {},
   "source": [
    "**CREATE GEOMETRY FROM SHP AND CSV**"
   ]
  },
  {
   "cell_type": "code",
   "execution_count": 13,
   "metadata": {},
   "outputs": [],
   "source": [
    "geometry = gpd.points_from_xy(df_climate_ispa['longitude'], df_climate_ispa['latitude'])\n",
    "gdf_climate_ispa = gpd.GeoDataFrame(df_climate_ispa, geometry=geometry, crs='4326')"
   ]
  },
  {
   "cell_type": "code",
   "execution_count": 14,
   "metadata": {},
   "outputs": [
    {
     "name": "stdout",
     "output_type": "stream",
     "text": [
      "<class 'geopandas.geodataframe.GeoDataFrame'>\n",
      "RangeIndex: 18000 entries, 0 to 17999\n",
      "Data columns (total 15 columns):\n",
      " #   Column        Non-Null Count  Dtype         \n",
      "---  ------        --------------  -----         \n",
      " 0   Unnamed: 0.1  18000 non-null  int64         \n",
      " 1   Unnamed: 0    18000 non-null  int64         \n",
      " 2   KABKOT        18000 non-null  object        \n",
      " 3   month         18000 non-null  int32         \n",
      " 4   year          18000 non-null  int32         \n",
      " 5   longitude     18000 non-null  float64       \n",
      " 6   latitude      18000 non-null  float64       \n",
      " 7   RH            18000 non-null  float64       \n",
      " 8   time          18000 non-null  datetime64[ns]\n",
      " 9   t2m           18000 non-null  float64       \n",
      " 10  tp            18000 non-null  float64       \n",
      " 11  Month         18000 non-null  int64         \n",
      " 12  Year          18000 non-null  int64         \n",
      " 13  ISPA          18000 non-null  int64         \n",
      " 14  geometry      18000 non-null  geometry      \n",
      "dtypes: datetime64[ns](1), float64(5), geometry(1), int32(2), int64(5), object(1)\n",
      "memory usage: 1.9+ MB\n"
     ]
    }
   ],
   "source": [
    "gdf_climate_ispa.info()"
   ]
  },
  {
   "cell_type": "code",
   "execution_count": 15,
   "metadata": {},
   "outputs": [],
   "source": [
    "gdf_climate_ispa.to_csv('coba_merge.csv')"
   ]
  },
  {
   "cell_type": "code",
   "execution_count": 16,
   "metadata": {},
   "outputs": [
    {
     "data": {
      "text/plain": [
       "<Axes: >"
      ]
     },
     "execution_count": 16,
     "metadata": {},
     "output_type": "execute_result"
    },
    {
     "data": {
      "image/png": "[encoded data removed]",
      "text/plain": [
       "<Figure size 640x480 with 1 Axes>"
      ]
     },
     "metadata": {},
     "output_type": "display_data"
    },
    {
     "data": {
      "image/png": "[encoded data removed]",
      "text/plain": [
       "<Figure size 640x480 with 1 Axes>"
      ]
     },
     "metadata": {},
     "output_type": "display_data"
    }
   ],
   "source": [
    "gdf_climate_ispa.plot()\n",
    "gdf_shapefile.plot()"
   ]
  },
  {
   "cell_type": "code",
   "execution_count": 17,
   "metadata": {},
   "outputs": [
    {
     "name": "stdout",
     "output_type": "stream",
     "text": [
      "<class 'geopandas.geodataframe.GeoDataFrame'>\n",
      "RangeIndex: 18000 entries, 0 to 17999\n",
      "Data columns (total 20 columns):\n",
      " #   Column        Non-Null Count  Dtype         \n",
      "---  ------        --------------  -----         \n",
      " 0   Unnamed: 0.1  18000 non-null  int64         \n",
      " 1   Unnamed: 0    18000 non-null  int64         \n",
      " 2   KABKOT        18000 non-null  object        \n",
      " 3   month         18000 non-null  int32         \n",
      " 4   year          18000 non-null  int32         \n",
      " 5   longitude     18000 non-null  float64       \n",
      " 6   latitude      18000 non-null  float64       \n",
      " 7   RH            18000 non-null  float64       \n",
      " 8   time          18000 non-null  datetime64[ns]\n",
      " 9   t2m           18000 non-null  float64       \n",
      " 10  tp            18000 non-null  float64       \n",
      " 11  Month         18000 non-null  int64         \n",
      " 12  Year          18000 non-null  int64         \n",
      " 13  ISPA          18000 non-null  int64         \n",
      " 14  geometry_x    18000 non-null  geometry      \n",
      " 15  PROVNO        18000 non-null  object        \n",
      " 16  KABKOTNO      18000 non-null  object        \n",
      " 17  PROVINSI      18000 non-null  object        \n",
      " 18  geometry_y    18000 non-null  geometry      \n",
      " 19  geometry      18000 non-null  geometry      \n",
      "dtypes: datetime64[ns](1), float64(5), geometry(3), int32(2), int64(5), object(4)\n",
      "memory usage: 2.6+ MB\n"
     ]
    }
   ],
   "source": [
    "#join all the variables\n",
    "result = gdf_climate_ispa.merge(gdf_shapefile, on='KABKOT')\n",
    "result['geometry'] = result['geometry_y']\n",
    "result = gpd.GeoDataFrame(result)\n",
    "#add the columns\n",
    "result_pop = result[['longitude', 'latitude', 'month', 'year', 'ISPA', 'geometry', 'KABKOT','time']]\n",
    "result.info()\n"
   ]
  },
  {
   "cell_type": "code",
   "execution_count": 18,
   "metadata": {},
   "outputs": [
    {
     "data": {
      "text/plain": [
       "<Axes: >"
      ]
     },
     "execution_count": 18,
     "metadata": {},
     "output_type": "execute_result"
    },
    {
     "data": {
      "image/png": "[encoded data removed]",
      "text/plain": [
       "<Figure size 640x480 with 1 Axes>"
      ]
     },
     "metadata": {},
     "output_type": "display_data"
    }
   ],
   "source": [
    "result_pop.plot()"
   ]
  },
  {
   "cell_type": "code",
   "execution_count": 19,
   "metadata": {},
   "outputs": [
    {
     "name": "stdout",
     "output_type": "stream",
     "text": [
      "<class 'geopandas.geodataframe.GeoDataFrame'>\n",
      "RangeIndex: 18000 entries, 0 to 17999\n",
      "Data columns (total 8 columns):\n",
      " #   Column     Non-Null Count  Dtype         \n",
      "---  ------     --------------  -----         \n",
      " 0   longitude  18000 non-null  float64       \n",
      " 1   latitude   18000 non-null  float64       \n",
      " 2   month      18000 non-null  int32         \n",
      " 3   year       18000 non-null  int32         \n",
      " 4   ISPA       18000 non-null  int64         \n",
      " 5   geometry   18000 non-null  geometry      \n",
      " 6   KABKOT     18000 non-null  object        \n",
      " 7   time       18000 non-null  datetime64[ns]\n",
      "dtypes: datetime64[ns](1), float64(2), geometry(1), int32(2), int64(1), object(1)\n",
      "memory usage: 984.5+ KB\n"
     ]
    }
   ],
   "source": [
    "result_pop.info()"
   ]
  },
  {
   "cell_type": "markdown",
   "metadata": {},
   "source": [
    "**SHOW THE COLUMNS**"
   ]
  },
  {
   "cell_type": "code",
   "execution_count": 20,
   "metadata": {},
   "outputs": [
    {
     "data": {
      "text/html": [
       "<div>\n",
       "<style scoped>\n",
       "    .dataframe tbody tr th:only-of-type {\n",
       "        vertical-align: middle;\n",
       "    }\n",
       "\n",
       "    .dataframe tbody tr th {\n",
       "        vertical-align: top;\n",
       "    }\n",
       "\n",
       "    .dataframe thead th {\n",
       "        text-align: right;\n",
       "    }\n",
       "</style>\n",
       "<table border=\"1\" class=\"dataframe\">\n",
       "  <thead>\n",
       "    <tr style=\"text-align: right;\">\n",
       "      <th></th>\n",
       "      <th></th>\n",
       "      <th></th>\n",
       "      <th>geometry</th>\n",
       "      <th>longitude</th>\n",
       "      <th>latitude</th>\n",
       "      <th>ISPA</th>\n",
       "      <th>time</th>\n",
       "    </tr>\n",
       "    <tr>\n",
       "      <th>KABKOT</th>\n",
       "      <th>month</th>\n",
       "      <th>year</th>\n",
       "      <th></th>\n",
       "      <th></th>\n",
       "      <th></th>\n",
       "      <th></th>\n",
       "      <th></th>\n",
       "    </tr>\n",
       "  </thead>\n",
       "  <tbody>\n",
       "    <tr>\n",
       "      <th rowspan=\"5\" valign=\"top\">JAKARTA BARAT</th>\n",
       "      <th rowspan=\"5\" valign=\"top\">1</th>\n",
       "      <th>2018</th>\n",
       "      <td>POLYGON Z ((106.71235 -6.09674 0.00000, 106.71...</td>\n",
       "      <td>106.75</td>\n",
       "      <td>-6.158333</td>\n",
       "      <td>35036</td>\n",
       "      <td>2018-01-01</td>\n",
       "    </tr>\n",
       "    <tr>\n",
       "      <th>2019</th>\n",
       "      <td>POLYGON Z ((106.71235 -6.09674 0.00000, 106.71...</td>\n",
       "      <td>106.75</td>\n",
       "      <td>-6.158333</td>\n",
       "      <td>35036</td>\n",
       "      <td>2019-01-01</td>\n",
       "    </tr>\n",
       "    <tr>\n",
       "      <th>2020</th>\n",
       "      <td>POLYGON Z ((106.71235 -6.09674 0.00000, 106.71...</td>\n",
       "      <td>106.75</td>\n",
       "      <td>-6.158333</td>\n",
       "      <td>35036</td>\n",
       "      <td>2020-01-01</td>\n",
       "    </tr>\n",
       "    <tr>\n",
       "      <th>2021</th>\n",
       "      <td>POLYGON Z ((106.71235 -6.09674 0.00000, 106.71...</td>\n",
       "      <td>106.75</td>\n",
       "      <td>-6.158333</td>\n",
       "      <td>35036</td>\n",
       "      <td>2021-01-01</td>\n",
       "    </tr>\n",
       "    <tr>\n",
       "      <th>2022</th>\n",
       "      <td>POLYGON Z ((106.71235 -6.09674 0.00000, 106.71...</td>\n",
       "      <td>106.75</td>\n",
       "      <td>-6.158333</td>\n",
       "      <td>35036</td>\n",
       "      <td>2022-01-01</td>\n",
       "    </tr>\n",
       "  </tbody>\n",
       "</table>\n",
       "</div>"
      ],
      "text/plain": [
       "                                                                   geometry  \\\n",
       "KABKOT        month year                                                      \n",
       "JAKARTA BARAT 1     2018  POLYGON Z ((106.71235 -6.09674 0.00000, 106.71...   \n",
       "                    2019  POLYGON Z ((106.71235 -6.09674 0.00000, 106.71...   \n",
       "                    2020  POLYGON Z ((106.71235 -6.09674 0.00000, 106.71...   \n",
       "                    2021  POLYGON Z ((106.71235 -6.09674 0.00000, 106.71...   \n",
       "                    2022  POLYGON Z ((106.71235 -6.09674 0.00000, 106.71...   \n",
       "\n",
       "                          longitude  latitude   ISPA       time  \n",
       "KABKOT        month year                                         \n",
       "JAKARTA BARAT 1     2018     106.75 -6.158333  35036 2018-01-01  \n",
       "                    2019     106.75 -6.158333  35036 2019-01-01  \n",
       "                    2020     106.75 -6.158333  35036 2020-01-01  \n",
       "                    2021     106.75 -6.158333  35036 2021-01-01  \n",
       "                    2022     106.75 -6.158333  35036 2022-01-01  "
      ]
     },
     "execution_count": 20,
     "metadata": {},
     "output_type": "execute_result"
    }
   ],
   "source": [
    "# Dissolve berdasarkan 'KABKOT' dan 'month' dengan fungsi agregasi mean\n",
    "dissolved_result = result_pop.dissolve(by=['KABKOT', 'month','year'])\n",
    "dissolved_result.head()"
   ]
  },
  {
   "cell_type": "code",
   "execution_count": 31,
   "metadata": {},
   "outputs": [],
   "source": [
    "dissolved_result = dissolved_result.reset_index()"
   ]
  },
  {
   "cell_type": "code",
   "execution_count": 33,
   "metadata": {},
   "outputs": [
    {
     "data": {
      "text/html": [
       "<div>\n",
       "<style scoped>\n",
       "    .dataframe tbody tr th:only-of-type {\n",
       "        vertical-align: middle;\n",
       "    }\n",
       "\n",
       "    .dataframe tbody tr th {\n",
       "        vertical-align: top;\n",
       "    }\n",
       "\n",
       "    .dataframe thead th {\n",
       "        text-align: right;\n",
       "    }\n",
       "</style>\n",
       "<table border=\"1\" class=\"dataframe\">\n",
       "  <thead>\n",
       "    <tr style=\"text-align: right;\">\n",
       "      <th></th>\n",
       "      <th>KABKOT</th>\n",
       "      <th>month</th>\n",
       "      <th>year</th>\n",
       "      <th>geometry</th>\n",
       "      <th>longitude</th>\n",
       "      <th>latitude</th>\n",
       "      <th>ISPA</th>\n",
       "      <th>time</th>\n",
       "    </tr>\n",
       "  </thead>\n",
       "  <tbody>\n",
       "    <tr>\n",
       "      <th>0</th>\n",
       "      <td>JAKARTA BARAT</td>\n",
       "      <td>1</td>\n",
       "      <td>2018</td>\n",
       "      <td>POLYGON Z ((106.71235 -6.09674 0.00000, 106.71...</td>\n",
       "      <td>106.750000</td>\n",
       "      <td>-6.158333</td>\n",
       "      <td>35036</td>\n",
       "      <td>2018-01-01</td>\n",
       "    </tr>\n",
       "    <tr>\n",
       "      <th>1</th>\n",
       "      <td>JAKARTA BARAT</td>\n",
       "      <td>1</td>\n",
       "      <td>2019</td>\n",
       "      <td>POLYGON Z ((106.71235 -6.09674 0.00000, 106.71...</td>\n",
       "      <td>106.750000</td>\n",
       "      <td>-6.158333</td>\n",
       "      <td>35036</td>\n",
       "      <td>2019-01-01</td>\n",
       "    </tr>\n",
       "    <tr>\n",
       "      <th>2</th>\n",
       "      <td>JAKARTA BARAT</td>\n",
       "      <td>1</td>\n",
       "      <td>2020</td>\n",
       "      <td>POLYGON Z ((106.71235 -6.09674 0.00000, 106.71...</td>\n",
       "      <td>106.750000</td>\n",
       "      <td>-6.158333</td>\n",
       "      <td>35036</td>\n",
       "      <td>2020-01-01</td>\n",
       "    </tr>\n",
       "    <tr>\n",
       "      <th>3</th>\n",
       "      <td>JAKARTA BARAT</td>\n",
       "      <td>1</td>\n",
       "      <td>2021</td>\n",
       "      <td>POLYGON Z ((106.71235 -6.09674 0.00000, 106.71...</td>\n",
       "      <td>106.750000</td>\n",
       "      <td>-6.158333</td>\n",
       "      <td>35036</td>\n",
       "      <td>2021-01-01</td>\n",
       "    </tr>\n",
       "    <tr>\n",
       "      <th>4</th>\n",
       "      <td>JAKARTA BARAT</td>\n",
       "      <td>1</td>\n",
       "      <td>2022</td>\n",
       "      <td>POLYGON Z ((106.71235 -6.09674 0.00000, 106.71...</td>\n",
       "      <td>106.750000</td>\n",
       "      <td>-6.158333</td>\n",
       "      <td>35036</td>\n",
       "      <td>2022-01-01</td>\n",
       "    </tr>\n",
       "    <tr>\n",
       "      <th>...</th>\n",
       "      <td>...</td>\n",
       "      <td>...</td>\n",
       "      <td>...</td>\n",
       "      <td>...</td>\n",
       "      <td>...</td>\n",
       "      <td>...</td>\n",
       "      <td>...</td>\n",
       "      <td>...</td>\n",
       "    </tr>\n",
       "    <tr>\n",
       "      <th>295</th>\n",
       "      <td>JAKARTA UTARA</td>\n",
       "      <td>12</td>\n",
       "      <td>2018</td>\n",
       "      <td>POLYGON Z ((106.72649 -6.08975 0.00000, 106.72...</td>\n",
       "      <td>106.891667</td>\n",
       "      <td>-6.125000</td>\n",
       "      <td>26403</td>\n",
       "      <td>2018-12-01</td>\n",
       "    </tr>\n",
       "    <tr>\n",
       "      <th>296</th>\n",
       "      <td>JAKARTA UTARA</td>\n",
       "      <td>12</td>\n",
       "      <td>2019</td>\n",
       "      <td>POLYGON Z ((106.72649 -6.08975 0.00000, 106.72...</td>\n",
       "      <td>106.891667</td>\n",
       "      <td>-6.125000</td>\n",
       "      <td>26403</td>\n",
       "      <td>2019-12-01</td>\n",
       "    </tr>\n",
       "    <tr>\n",
       "      <th>297</th>\n",
       "      <td>JAKARTA UTARA</td>\n",
       "      <td>12</td>\n",
       "      <td>2020</td>\n",
       "      <td>POLYGON Z ((106.72649 -6.08975 0.00000, 106.72...</td>\n",
       "      <td>106.891667</td>\n",
       "      <td>-6.125000</td>\n",
       "      <td>26403</td>\n",
       "      <td>2020-12-01</td>\n",
       "    </tr>\n",
       "    <tr>\n",
       "      <th>298</th>\n",
       "      <td>JAKARTA UTARA</td>\n",
       "      <td>12</td>\n",
       "      <td>2021</td>\n",
       "      <td>POLYGON Z ((106.72649 -6.08975 0.00000, 106.72...</td>\n",
       "      <td>106.891667</td>\n",
       "      <td>-6.125000</td>\n",
       "      <td>26403</td>\n",
       "      <td>2021-12-01</td>\n",
       "    </tr>\n",
       "    <tr>\n",
       "      <th>299</th>\n",
       "      <td>JAKARTA UTARA</td>\n",
       "      <td>12</td>\n",
       "      <td>2022</td>\n",
       "      <td>POLYGON Z ((106.72649 -6.08975 0.00000, 106.72...</td>\n",
       "      <td>106.891667</td>\n",
       "      <td>-6.125000</td>\n",
       "      <td>26403</td>\n",
       "      <td>2022-12-01</td>\n",
       "    </tr>\n",
       "  </tbody>\n",
       "</table>\n",
       "<p>300 rows × 8 columns</p>\n",
       "</div>"
      ],
      "text/plain": [
       "            KABKOT  month  year  \\\n",
       "0    JAKARTA BARAT      1  2018   \n",
       "1    JAKARTA BARAT      1  2019   \n",
       "2    JAKARTA BARAT      1  2020   \n",
       "3    JAKARTA BARAT      1  2021   \n",
       "4    JAKARTA BARAT      1  2022   \n",
       "..             ...    ...   ...   \n",
       "295  JAKARTA UTARA     12  2018   \n",
       "296  JAKARTA UTARA     12  2019   \n",
       "297  JAKARTA UTARA     12  2020   \n",
       "298  JAKARTA UTARA     12  2021   \n",
       "299  JAKARTA UTARA     12  2022   \n",
       "\n",
       "                                              geometry   longitude  latitude  \\\n",
       "0    POLYGON Z ((106.71235 -6.09674 0.00000, 106.71...  106.750000 -6.158333   \n",
       "1    POLYGON Z ((106.71235 -6.09674 0.00000, 106.71...  106.750000 -6.158333   \n",
       "2    POLYGON Z ((106.71235 -6.09674 0.00000, 106.71...  106.750000 -6.158333   \n",
       "3    POLYGON Z ((106.71235 -6.09674 0.00000, 106.71...  106.750000 -6.158333   \n",
       "4    POLYGON Z ((106.71235 -6.09674 0.00000, 106.71...  106.750000 -6.158333   \n",
       "..                                                 ...         ...       ...   \n",
       "295  POLYGON Z ((106.72649 -6.08975 0.00000, 106.72...  106.891667 -6.125000   \n",
       "296  POLYGON Z ((106.72649 -6.08975 0.00000, 106.72...  106.891667 -6.125000   \n",
       "297  POLYGON Z ((106.72649 -6.08975 0.00000, 106.72...  106.891667 -6.125000   \n",
       "298  POLYGON Z ((106.72649 -6.08975 0.00000, 106.72...  106.891667 -6.125000   \n",
       "299  POLYGON Z ((106.72649 -6.08975 0.00000, 106.72...  106.891667 -6.125000   \n",
       "\n",
       "      ISPA       time  \n",
       "0    35036 2018-01-01  \n",
       "1    35036 2019-01-01  \n",
       "2    35036 2020-01-01  \n",
       "3    35036 2021-01-01  \n",
       "4    35036 2022-01-01  \n",
       "..     ...        ...  \n",
       "295  26403 2018-12-01  \n",
       "296  26403 2019-12-01  \n",
       "297  26403 2020-12-01  \n",
       "298  26403 2021-12-01  \n",
       "299  26403 2022-12-01  \n",
       "\n",
       "[300 rows x 8 columns]"
      ]
     },
     "execution_count": 33,
     "metadata": {},
     "output_type": "execute_result"
    }
   ],
   "source": [
    "dissolved_result"
   ]
  },
  {
   "cell_type": "code",
   "execution_count": 22,
   "metadata": {},
   "outputs": [],
   "source": [
    "#download data to .csv format\n",
    "dissolved_result.to_csv('ISPA_climate_year2.csv')"
   ]
  },
  {
   "cell_type": "markdown",
   "metadata": {},
   "source": [
    "**SET FOR MAPPING**"
   ]
  },
  {
   "cell_type": "code",
   "execution_count": 23,
   "metadata": {},
   "outputs": [],
   "source": [
    "# ubah per month\n",
    "import pandas as pd"
   ]
  },
  {
   "cell_type": "code",
   "execution_count": 24,
   "metadata": {},
   "outputs": [],
   "source": [
    "#change into dataframe to drop the 'geometry' columns, etc\n",
    "dissolved_result_df= pd.DataFrame(dissolved_result)\n",
    "dissolved_result_df = dissolved_result_df.drop(['geometry'], axis = 1)"
   ]
  },
  {
   "cell_type": "code",
   "execution_count": 25,
   "metadata": {},
   "outputs": [
    {
     "name": "stdout",
     "output_type": "stream",
     "text": [
      "<class 'pandas.core.frame.DataFrame'>\n",
      "MultiIndex: 300 entries, ('JAKARTA BARAT', 1, 2018) to ('JAKARTA UTARA', 12, 2022)\n",
      "Data columns (total 4 columns):\n",
      " #   Column     Non-Null Count  Dtype         \n",
      "---  ------     --------------  -----         \n",
      " 0   longitude  300 non-null    float64       \n",
      " 1   latitude   300 non-null    float64       \n",
      " 2   ISPA       300 non-null    int64         \n",
      " 3   time       300 non-null    datetime64[ns]\n",
      "dtypes: datetime64[ns](1), float64(2), int64(1)\n",
      "memory usage: 18.8+ KB\n"
     ]
    }
   ],
   "source": [
    "dissolved_result_df.info()"
   ]
  },
  {
   "cell_type": "code",
   "execution_count": 26,
   "metadata": {},
   "outputs": [],
   "source": [
    "dissolved_result_df = dissolved_result_df.sort_values(by=[ 'year', 'KABKOT', 'month'])"
   ]
  },
  {
   "cell_type": "code",
   "execution_count": 27,
   "metadata": {},
   "outputs": [
    {
     "data": {
      "text/html": [
       "<div>\n",
       "<style scoped>\n",
       "    .dataframe tbody tr th:only-of-type {\n",
       "        vertical-align: middle;\n",
       "    }\n",
       "\n",
       "    .dataframe tbody tr th {\n",
       "        vertical-align: top;\n",
       "    }\n",
       "\n",
       "    .dataframe thead th {\n",
       "        text-align: right;\n",
       "    }\n",
       "</style>\n",
       "<table border=\"1\" class=\"dataframe\">\n",
       "  <thead>\n",
       "    <tr style=\"text-align: right;\">\n",
       "      <th></th>\n",
       "      <th></th>\n",
       "      <th></th>\n",
       "      <th>longitude</th>\n",
       "      <th>latitude</th>\n",
       "      <th>ISPA</th>\n",
       "      <th>time</th>\n",
       "    </tr>\n",
       "    <tr>\n",
       "      <th>KABKOT</th>\n",
       "      <th>month</th>\n",
       "      <th>year</th>\n",
       "      <th></th>\n",
       "      <th></th>\n",
       "      <th></th>\n",
       "      <th></th>\n",
       "    </tr>\n",
       "  </thead>\n",
       "  <tbody>\n",
       "    <tr>\n",
       "      <th rowspan=\"5\" valign=\"top\">JAKARTA BARAT</th>\n",
       "      <th>1</th>\n",
       "      <th>2018</th>\n",
       "      <td>106.750000</td>\n",
       "      <td>-6.158333</td>\n",
       "      <td>35036</td>\n",
       "      <td>2018-01-01</td>\n",
       "    </tr>\n",
       "    <tr>\n",
       "      <th>2</th>\n",
       "      <th>2018</th>\n",
       "      <td>106.750000</td>\n",
       "      <td>-6.158333</td>\n",
       "      <td>35036</td>\n",
       "      <td>2018-02-01</td>\n",
       "    </tr>\n",
       "    <tr>\n",
       "      <th>3</th>\n",
       "      <th>2018</th>\n",
       "      <td>106.750000</td>\n",
       "      <td>-6.158333</td>\n",
       "      <td>35036</td>\n",
       "      <td>2018-03-01</td>\n",
       "    </tr>\n",
       "    <tr>\n",
       "      <th>4</th>\n",
       "      <th>2018</th>\n",
       "      <td>106.750000</td>\n",
       "      <td>-6.158333</td>\n",
       "      <td>35036</td>\n",
       "      <td>2018-04-01</td>\n",
       "    </tr>\n",
       "    <tr>\n",
       "      <th>5</th>\n",
       "      <th>2018</th>\n",
       "      <td>106.750000</td>\n",
       "      <td>-6.158333</td>\n",
       "      <td>35036</td>\n",
       "      <td>2018-05-01</td>\n",
       "    </tr>\n",
       "    <tr>\n",
       "      <th>...</th>\n",
       "      <th>...</th>\n",
       "      <th>...</th>\n",
       "      <td>...</td>\n",
       "      <td>...</td>\n",
       "      <td>...</td>\n",
       "      <td>...</td>\n",
       "    </tr>\n",
       "    <tr>\n",
       "      <th rowspan=\"5\" valign=\"top\">JAKARTA UTARA</th>\n",
       "      <th>8</th>\n",
       "      <th>2022</th>\n",
       "      <td>106.891667</td>\n",
       "      <td>-6.125000</td>\n",
       "      <td>26403</td>\n",
       "      <td>2022-08-01</td>\n",
       "    </tr>\n",
       "    <tr>\n",
       "      <th>9</th>\n",
       "      <th>2022</th>\n",
       "      <td>106.891667</td>\n",
       "      <td>-6.125000</td>\n",
       "      <td>26403</td>\n",
       "      <td>2022-09-01</td>\n",
       "    </tr>\n",
       "    <tr>\n",
       "      <th>10</th>\n",
       "      <th>2022</th>\n",
       "      <td>106.891667</td>\n",
       "      <td>-6.125000</td>\n",
       "      <td>26403</td>\n",
       "      <td>2022-10-01</td>\n",
       "    </tr>\n",
       "    <tr>\n",
       "      <th>11</th>\n",
       "      <th>2022</th>\n",
       "      <td>106.891667</td>\n",
       "      <td>-6.125000</td>\n",
       "      <td>26403</td>\n",
       "      <td>2022-11-01</td>\n",
       "    </tr>\n",
       "    <tr>\n",
       "      <th>12</th>\n",
       "      <th>2022</th>\n",
       "      <td>106.891667</td>\n",
       "      <td>-6.125000</td>\n",
       "      <td>26403</td>\n",
       "      <td>2022-12-01</td>\n",
       "    </tr>\n",
       "  </tbody>\n",
       "</table>\n",
       "<p>300 rows × 4 columns</p>\n",
       "</div>"
      ],
      "text/plain": [
       "                           longitude  latitude   ISPA       time\n",
       "KABKOT        month year                                        \n",
       "JAKARTA BARAT 1     2018  106.750000 -6.158333  35036 2018-01-01\n",
       "              2     2018  106.750000 -6.158333  35036 2018-02-01\n",
       "              3     2018  106.750000 -6.158333  35036 2018-03-01\n",
       "              4     2018  106.750000 -6.158333  35036 2018-04-01\n",
       "              5     2018  106.750000 -6.158333  35036 2018-05-01\n",
       "...                              ...       ...    ...        ...\n",
       "JAKARTA UTARA 8     2022  106.891667 -6.125000  26403 2022-08-01\n",
       "              9     2022  106.891667 -6.125000  26403 2022-09-01\n",
       "              10    2022  106.891667 -6.125000  26403 2022-10-01\n",
       "              11    2022  106.891667 -6.125000  26403 2022-11-01\n",
       "              12    2022  106.891667 -6.125000  26403 2022-12-01\n",
       "\n",
       "[300 rows x 4 columns]"
      ]
     },
     "execution_count": 27,
     "metadata": {},
     "output_type": "execute_result"
    }
   ],
   "source": [
    "dissolved_result_df"
   ]
  },
  {
   "cell_type": "code",
   "execution_count": 28,
   "metadata": {},
   "outputs": [],
   "source": [
    "#download data to .csv format\n",
    "dissolved_result_df.to_csv('ispa_climate_kabkot_year.csv')"
   ]
  },
  {
   "cell_type": "markdown",
   "metadata": {},
   "source": [
    "**MAPPING**"
   ]
  },
  {
   "cell_type": "code",
   "execution_count": 29,
   "metadata": {},
   "outputs": [],
   "source": [
    "import calendar\n",
    "import matplotlib.pyplot as plt"
   ]
  },
  {
   "cell_type": "markdown",
   "metadata": {},
   "source": [
    "**GRAPHS**"
   ]
  },
  {
   "cell_type": "code",
   "execution_count": 30,
   "metadata": {},
   "outputs": [
    {
     "ename": "KeyError",
     "evalue": "'year'",
     "output_type": "error",
     "traceback": [
      "\u001b[0;31m---------------------------------------------------------------------------\u001b[0m",
      "\u001b[0;31mKeyError\u001b[0m                                  Traceback (most recent call last)",
      "File \u001b[0;32m~/mambaforge/envs/skripsi/lib/python3.12/site-packages/pandas/core/indexes/base.py:3790\u001b[0m, in \u001b[0;36mIndex.get_loc\u001b[0;34m(self, key)\u001b[0m\n\u001b[1;32m   3789\u001b[0m \u001b[39mtry\u001b[39;00m:\n\u001b[0;32m-> 3790\u001b[0m     \u001b[39mreturn\u001b[39;00m \u001b[39mself\u001b[39;49m\u001b[39m.\u001b[39;49m_engine\u001b[39m.\u001b[39;49mget_loc(casted_key)\n\u001b[1;32m   3791\u001b[0m \u001b[39mexcept\u001b[39;00m \u001b[39mKeyError\u001b[39;00m \u001b[39mas\u001b[39;00m err:\n",
      "File \u001b[0;32mindex.pyx:152\u001b[0m, in \u001b[0;36mpandas._libs.index.IndexEngine.get_loc\u001b[0;34m()\u001b[0m\n",
      "File \u001b[0;32mindex.pyx:181\u001b[0m, in \u001b[0;36mpandas._libs.index.IndexEngine.get_loc\u001b[0;34m()\u001b[0m\n",
      "File \u001b[0;32mpandas/_libs/hashtable_class_helper.pxi:7080\u001b[0m, in \u001b[0;36mpandas._libs.hashtable.PyObjectHashTable.get_item\u001b[0;34m()\u001b[0m\n",
      "File \u001b[0;32mpandas/_libs/hashtable_class_helper.pxi:7088\u001b[0m, in \u001b[0;36mpandas._libs.hashtable.PyObjectHashTable.get_item\u001b[0;34m()\u001b[0m\n",
      "\u001b[0;31mKeyError\u001b[0m: 'year'",
      "\nThe above exception was the direct cause of the following exception:\n",
      "\u001b[0;31mKeyError\u001b[0m                                  Traceback (most recent call last)",
      "\u001b[1;32m/Users/roniabuhanif/Downloads/BMKG/data_skripsi/data_kesehatan/ispa_year/polygon_ispa_year.ipynb Cell 38\u001b[0m line \u001b[0;36m2\n\u001b[1;32m      <a href='vscode-notebook-cell:/Users/roniabuhanif/Downloads/BMKG/data_skripsi/data_kesehatan/ispa_year/polygon_ispa_year.ipynb#X55sZmlsZQ%3D%3D?line=0'>1</a>\u001b[0m \u001b[39m# Filter data for the years 2020 to 2022\u001b[39;00m\n\u001b[0;32m----> <a href='vscode-notebook-cell:/Users/roniabuhanif/Downloads/BMKG/data_skripsi/data_kesehatan/ispa_year/polygon_ispa_year.ipynb#X55sZmlsZQ%3D%3D?line=1'>2</a>\u001b[0m data_2020_2022 \u001b[39m=\u001b[39m dissolved_result_df[(dissolved_result_df[\u001b[39m'\u001b[39;49m\u001b[39myear\u001b[39;49m\u001b[39m'\u001b[39;49m] \u001b[39m>\u001b[39m\u001b[39m=\u001b[39m \u001b[39m2018\u001b[39m) \u001b[39m&\u001b[39m (dissolved_result_df[\u001b[39m'\u001b[39m\u001b[39myear\u001b[39m\u001b[39m'\u001b[39m] \u001b[39m<\u001b[39m\u001b[39m=\u001b[39m \u001b[39m2022\u001b[39m)]\n\u001b[1;32m      <a href='vscode-notebook-cell:/Users/roniabuhanif/Downloads/BMKG/data_skripsi/data_kesehatan/ispa_year/polygon_ispa_year.ipynb#X55sZmlsZQ%3D%3D?line=3'>4</a>\u001b[0m \u001b[39m# Create a figure with subplots for each city\u001b[39;00m\n\u001b[1;32m      <a href='vscode-notebook-cell:/Users/roniabuhanif/Downloads/BMKG/data_skripsi/data_kesehatan/ispa_year/polygon_ispa_year.ipynb#X55sZmlsZQ%3D%3D?line=4'>5</a>\u001b[0m fig \u001b[39m=\u001b[39m plt\u001b[39m.\u001b[39mfigure(figsize\u001b[39m=\u001b[39m(\u001b[39m15\u001b[39m, \u001b[39m20\u001b[39m))\n",
      "File \u001b[0;32m~/mambaforge/envs/skripsi/lib/python3.12/site-packages/pandas/core/frame.py:3893\u001b[0m, in \u001b[0;36mDataFrame.__getitem__\u001b[0;34m(self, key)\u001b[0m\n\u001b[1;32m   3891\u001b[0m \u001b[39mif\u001b[39;00m \u001b[39mself\u001b[39m\u001b[39m.\u001b[39mcolumns\u001b[39m.\u001b[39mnlevels \u001b[39m>\u001b[39m \u001b[39m1\u001b[39m:\n\u001b[1;32m   3892\u001b[0m     \u001b[39mreturn\u001b[39;00m \u001b[39mself\u001b[39m\u001b[39m.\u001b[39m_getitem_multilevel(key)\n\u001b[0;32m-> 3893\u001b[0m indexer \u001b[39m=\u001b[39m \u001b[39mself\u001b[39;49m\u001b[39m.\u001b[39;49mcolumns\u001b[39m.\u001b[39;49mget_loc(key)\n\u001b[1;32m   3894\u001b[0m \u001b[39mif\u001b[39;00m is_integer(indexer):\n\u001b[1;32m   3895\u001b[0m     indexer \u001b[39m=\u001b[39m [indexer]\n",
      "File \u001b[0;32m~/mambaforge/envs/skripsi/lib/python3.12/site-packages/pandas/core/indexes/base.py:3797\u001b[0m, in \u001b[0;36mIndex.get_loc\u001b[0;34m(self, key)\u001b[0m\n\u001b[1;32m   3792\u001b[0m     \u001b[39mif\u001b[39;00m \u001b[39misinstance\u001b[39m(casted_key, \u001b[39mslice\u001b[39m) \u001b[39mor\u001b[39;00m (\n\u001b[1;32m   3793\u001b[0m         \u001b[39misinstance\u001b[39m(casted_key, abc\u001b[39m.\u001b[39mIterable)\n\u001b[1;32m   3794\u001b[0m         \u001b[39mand\u001b[39;00m \u001b[39many\u001b[39m(\u001b[39misinstance\u001b[39m(x, \u001b[39mslice\u001b[39m) \u001b[39mfor\u001b[39;00m x \u001b[39min\u001b[39;00m casted_key)\n\u001b[1;32m   3795\u001b[0m     ):\n\u001b[1;32m   3796\u001b[0m         \u001b[39mraise\u001b[39;00m InvalidIndexError(key)\n\u001b[0;32m-> 3797\u001b[0m     \u001b[39mraise\u001b[39;00m \u001b[39mKeyError\u001b[39;00m(key) \u001b[39mfrom\u001b[39;00m \u001b[39merr\u001b[39;00m\n\u001b[1;32m   3798\u001b[0m \u001b[39mexcept\u001b[39;00m \u001b[39mTypeError\u001b[39;00m:\n\u001b[1;32m   3799\u001b[0m     \u001b[39m# If we have a listlike key, _check_indexing_error will raise\u001b[39;00m\n\u001b[1;32m   3800\u001b[0m     \u001b[39m#  InvalidIndexError. Otherwise we fall through and re-raise\u001b[39;00m\n\u001b[1;32m   3801\u001b[0m     \u001b[39m#  the TypeError.\u001b[39;00m\n\u001b[1;32m   3802\u001b[0m     \u001b[39mself\u001b[39m\u001b[39m.\u001b[39m_check_indexing_error(key)\n",
      "\u001b[0;31mKeyError\u001b[0m: 'year'"
     ]
    }
   ],
   "source": [
    "# Filter data for the years 2020 to 2022\n",
    "data_2020_2022 = dissolved_result_df[(dissolved_result_df['year'] >= 2018) & (dissolved_result_df['year'] <= 2022)]\n",
    "\n",
    "# Create a figure with subplots for each city\n",
    "fig = plt.figure(figsize=(15, 20))\n",
    "cities = list(data_2020_2022['KABKOT'].unique())\n",
    "\n",
    "# Iterate through each city and plot the total TB cases for the years 2020 to 2022\n",
    "for idx, city in enumerate(cities, start=1):\n",
    "    # Filter data for the current city and years 2020 to 2022\n",
    "    data_city_2020_2022 = data_2020_2022[data_2020_2022['KABKOT'] == city]\n",
    "\n",
    "    # Calculate the monthly averages\n",
    "    monthly_total = data_city_2020_2022.groupby('month')['ISPA'].sum()\n",
    "\n",
    "    # Plot the map for the current city\n",
    "    plt.subplot(len(cities), 1, idx)\n",
    "    plt.plot(monthly_total, marker='o')\n",
    "    plt.title(f'{city} - Jumlah Kejadian Tuberkulosis Tahun 2020-2022')\n",
    "    plt.xlabel('Bulan')\n",
    "    plt.ylabel('Kejadian Tuberkulosis (jiwa)')\n",
    "    plt.xticks(range(1, 13), [calendar.month_abbr[i] for i in range(1, 13)])  # Display month names\n",
    "\n",
    "# Adjust layout\n",
    "plt.tight_layout(rect=[0, 0, 1, 0.96])\n",
    "\n",
    "# Show the plot\n",
    "plt.show()"
   ]
  }
 ],
 "metadata": {
  "kernelspec": {
   "display_name": "gis",
   "language": "python",
   "name": "python3"
  },
  "language_info": {
   "codemirror_mode": {
    "name": "ipython",
    "version": 3
   },
   "file_extension": ".py",
   "mimetype": "text/x-python",
   "name": "python",
   "nbconvert_exporter": "python",
   "pygments_lexer": "ipython3",
   "version": "3.12.0"
  }
 },
 "nbformat": 4,
 "nbformat_minor": 2
}
